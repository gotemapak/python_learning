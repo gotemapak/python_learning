{
 "cells": [
  {
   "cell_type": "code",
   "execution_count": 7,
   "metadata": {},
   "outputs": [],
   "source": [
    "import pandas as pd"
   ]
  },
  {
   "cell_type": "code",
   "execution_count": null,
   "metadata": {},
   "outputs": [],
   "source": [
    "df = pd.read_csv('/Users/artempak_macbook_air/Desktop/Code/python_learning/alex_python_for_pm/module_7_pandas/lesson_3/orders_sample.csv', index_col='id')\n",
    "df.head()"
   ]
  },
  {
   "cell_type": "code",
   "execution_count": null,
   "metadata": {},
   "outputs": [],
   "source": [
    "#редактирование колонок\n",
    "\n",
    "df['order_sum'] = df['order_sum'] * 100 #применяем любую операцию\n",
    "# df['order_sum'] = 0 #broadcast - распростр. на все значения\n",
    "df"
   ]
  },
  {
   "cell_type": "code",
   "execution_count": null,
   "metadata": {},
   "outputs": [],
   "source": [
    "#редактирование строк\n",
    "df.loc[21] = {'user_id': 999, 'order_sum': 0, 'order_date': None}\n",
    "# чаще используют словари, т.к. они однозначны\n",
    "df"
   ]
  },
  {
   "cell_type": "code",
   "execution_count": null,
   "metadata": {},
   "outputs": [],
   "source": [
    "#редактирование ячейку\n",
    "df.at[16, 'order_date'] = None #меняем дату заказа с инд. 16\n",
    "df"
   ]
  },
  {
   "cell_type": "code",
   "execution_count": null,
   "metadata": {},
   "outputs": [],
   "source": [
    "#редактирование ячейку\n",
    "\n",
    "df.loc[df['user_id'] == 12, 'order_sum'] = df.loc[df['user_id'] == 12, 'order_sum'] * .7\n",
    "\n",
    "df.loc[df['user_id'] == 12, 'order_sum']"
   ]
  },
  {
   "cell_type": "code",
   "execution_count": null,
   "metadata": {},
   "outputs": [],
   "source": [
    "#добавление колонок\n",
    "\n",
    "df['order_sum_discount'] = df['order_sum'] * .7 \n",
    "#добавляем колонку order_sum_discount\n",
    "df"
   ]
  },
  {
   "cell_type": "code",
   "execution_count": null,
   "metadata": {},
   "outputs": [],
   "source": [
    "#добавление строк\n",
    "\n",
    "df.loc[100] = {'user_id': 1, 'order_sum': None}\n",
    "#добавили строку с индексом 100 и значениями\n",
    "df"
   ]
  },
  {
   "cell_type": "code",
   "execution_count": null,
   "metadata": {},
   "outputs": [],
   "source": [
    "#удаляем колонку \n",
    "\n",
    "df = df.drop('foo', axis='columns')\n",
    "# указываем индекс строк или название колонок,\n",
    "# удалили колонку foo, создали новый дата фрейм, присвоили\n"
   ]
  },
  {
   "cell_type": "code",
   "execution_count": null,
   "metadata": {},
   "outputs": [],
   "source": [
    "df"
   ]
  },
  {
   "cell_type": "code",
   "execution_count": 14,
   "metadata": {},
   "outputs": [],
   "source": [
    "df = df.drop([3, 21], axis='rows')\n"
   ]
  },
  {
   "cell_type": "code",
   "execution_count": null,
   "metadata": {},
   "outputs": [],
   "source": [
    "df.drop_duplicates('user-id', keep='first')\n",
    "# базово удаляет все полные дубликаты строк в датафрейме\n",
    "# можем передать набор колонок где повторяются значения\n",
    "# дополнительно можем указать какой дубликат оставить \n",
    "# keep='first'- первый, last - последний\n"
   ]
  },
  {
   "cell_type": "code",
   "execution_count": null,
   "metadata": {},
   "outputs": [],
   "source": [
    "df.dropna() #удаляет строки с пустыми значеними из фрейма\n",
    "\n",
    "df.fillna('1, nana') #присваивает значение пустым ячейкам"
   ]
  },
  {
   "cell_type": "code",
   "execution_count": null,
   "metadata": {},
   "outputs": [],
   "source": [
    "#apply \n",
    "# > 1 000 → * .7\n",
    "# > 100 → * .6\n",
    "# ... → * .3\n",
    "\n",
    "#метод apply который применяет любую кастомную функцию к дата фрейму\n",
    "\n",
    "def apply_discount(row):\n",
    "    if row['order_sum'] > 1000:\n",
    "        row['order_sum'] *=7\n",
    "    elif row['order_sum'] > 100:\n",
    "        row['order_sum'] *= .6\n",
    "    else:\n",
    "        row['order_sum'] *= .5\n",
    "    return row\n",
    "\n",
    "test = pd.DataFrame([{'order_sum': 1000}, {'order_sum': 2000}, {'order_sum': 40}])\n",
    "\n",
    "\n",
    "\n",
    "# df.loc[df['user_id'] == 12, 'order_sum'] = df.loc[df['user_id'] == 12, 'order_sum'] * .7"
   ]
  },
  {
   "cell_type": "markdown",
   "metadata": {},
   "source": []
  },
  {
   "cell_type": "code",
   "execution_count": null,
   "metadata": {},
   "outputs": [],
   "source": [
    "df.head()"
   ]
  },
  {
   "cell_type": "code",
   "execution_count": null,
   "metadata": {},
   "outputs": [],
   "source": [
    "df.apply(apply_discount, axis='columns') #важно понять к какой axis применять код\n",
    "# метод аплай идёт в изначальный дата фрейм\n",
    "# он применяет код, в нашем случае к строкам-сериям\n",
    "# он ищет в сериях нужную колонку по строкам и применяет к ней код\n",
    "# он создаёт новую строку\n",
    "# он возвращается в датафрейм и перезаписывает данные в дата фрейме\n",
    "# всё вместе — это даёт гибкость в изменение строк в зависимости от кода и условий"
   ]
  },
  {
   "cell_type": "code",
   "execution_count": null,
   "metadata": {},
   "outputs": [],
   "source": [
    "df.apply(lambda row: row['order_sum'] * .7 if row['order_sum'] > 100 else row['order_sum'], axis='columns')\n",
    "# иногда используют lambda функцию, если условий 1-2, чтобы сделать компактно\n",
    "# она читается как: СДЕЛАЙ ВОТ ЭТО row['order_sum'] * .7\n",
    "# ЕСЛИ СОБЛЮДЕНО УСЛОВИЕ: if row['order_sum'] > 100\n",
    "# В ПРОТИВНОМ СЛУЧАЕ СДЕЛАЙ: else row['order_sum']"
   ]
  },
  {
   "cell_type": "code",
   "execution_count": null,
   "metadata": {},
   "outputs": [],
   "source": [
    "row['order_sum'] * .7 if row['order_sum'] > 100 else row['order_sum']\n",
    "# terninary operator - способ компактно описать if else услоный оператор "
   ]
  }
 ],
 "metadata": {
  "kernelspec": {
   "display_name": "venv",
   "language": "python",
   "name": "python3"
  },
  "language_info": {
   "codemirror_mode": {
    "name": "ipython",
    "version": 3
   },
   "file_extension": ".py",
   "mimetype": "text/x-python",
   "name": "python",
   "nbconvert_exporter": "python",
   "pygments_lexer": "ipython3",
   "version": "3.13.1"
  }
 },
 "nbformat": 4,
 "nbformat_minor": 2
}
