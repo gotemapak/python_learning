{
 "cells": [
  {
   "cell_type": "code",
   "execution_count": 194,
   "metadata": {},
   "outputs": [],
   "source": [
    "import pandas as pd"
   ]
  },
  {
   "cell_type": "code",
   "execution_count": 195,
   "metadata": {},
   "outputs": [],
   "source": [
    "# Задание 2:\n",
    "# Команда маркетинга потратила много денег на рекламу \n",
    "# и хочет оценить эффективность каналов привлечения. \n",
    "\n",
    "# Нужно рассчитать: \n",
    "# - CAC (Customer Acquisition Cost), 2020\n",
    "# - конверсию в первую покупку для каждого рекламного источника (utm_source) за 2020 год.\n",
    "\n",
    "# CAC = затраты на рекламу / количество новых клиентов\n",
    "# Конверсия = количество клиентов, сделавших заказ / общее количество привлеченных пользователей"
   ]
  },
  {
   "cell_type": "code",
   "execution_count": 196,
   "metadata": {},
   "outputs": [],
   "source": [
    "# cac \n",
    "# 1. посчитать рекламные затраты за 20 год по месяцам\n",
    "# 2. "
   ]
  },
  {
   "cell_type": "code",
   "execution_count": 197,
   "metadata": {},
   "outputs": [
    {
     "data": {
      "text/plain": [
       "date        period[Y-DEC]\n",
       "source             object\n",
       "campaign           object\n",
       "cost              float64\n",
       "dtype: object"
      ]
     },
     "execution_count": 197,
     "metadata": {},
     "output_type": "execute_result"
    }
   ],
   "source": [
    "ads_sources= pd.read_csv('/Users/artempak_macbook_air/Desktop/Code/python_learning/alex_python_for_pm/module_10_cohorts/data/costs.csv')\n",
    "ads_sources['date'] = pd.to_datetime(ads_sources['date']).dt.to_period('Y')\n",
    "ads_sources.dtypes\n"
   ]
  },
  {
   "cell_type": "code",
   "execution_count": null,
   "metadata": {},
   "outputs": [
    {
     "data": {
      "text/html": [
       "<div>\n",
       "<style scoped>\n",
       "    .dataframe tbody tr th:only-of-type {\n",
       "        vertical-align: middle;\n",
       "    }\n",
       "\n",
       "    .dataframe tbody tr th {\n",
       "        vertical-align: top;\n",
       "    }\n",
       "\n",
       "    .dataframe thead th {\n",
       "        text-align: right;\n",
       "    }\n",
       "</style>\n",
       "<table border=\"1\" class=\"dataframe\">\n",
       "  <thead>\n",
       "    <tr style=\"text-align: right;\">\n",
       "      <th></th>\n",
       "      <th></th>\n",
       "      <th>campaign</th>\n",
       "      <th>cost</th>\n",
       "    </tr>\n",
       "    <tr>\n",
       "      <th>date</th>\n",
       "      <th>source</th>\n",
       "      <th></th>\n",
       "      <th></th>\n",
       "    </tr>\n",
       "  </thead>\n",
       "  <tbody>\n",
       "    <tr>\n",
       "      <th rowspan=\"4\" valign=\"top\">2020</th>\n",
       "      <th>fb</th>\n",
       "      <td>gnrl|755263lal|772023gnrl|755263lal|772023gnrl...</td>\n",
       "      <td>170946.80</td>\n",
       "    </tr>\n",
       "    <tr>\n",
       "      <th>google_ads</th>\n",
       "      <td>lal|487809lal|487809lal|487809lal|487809lal|48...</td>\n",
       "      <td>113912.57</td>\n",
       "    </tr>\n",
       "    <tr>\n",
       "      <th>vk</th>\n",
       "      <td>lal|727027lal|727027lal|727027lal|727027lal|72...</td>\n",
       "      <td>83310.36</td>\n",
       "    </tr>\n",
       "    <tr>\n",
       "      <th>yandex_direct</th>\n",
       "      <td>gnrl|445275gnrl|953233gnrl|445275gnrl|845242gn...</td>\n",
       "      <td>513690.46</td>\n",
       "    </tr>\n",
       "  </tbody>\n",
       "</table>\n",
       "</div>"
      ],
      "text/plain": [
       "                                                             campaign  \\\n",
       "date source                                                             \n",
       "2020 fb             gnrl|755263lal|772023gnrl|755263lal|772023gnrl...   \n",
       "     google_ads     lal|487809lal|487809lal|487809lal|487809lal|48...   \n",
       "     vk             lal|727027lal|727027lal|727027lal|727027lal|72...   \n",
       "     yandex_direct  gnrl|445275gnrl|953233gnrl|445275gnrl|845242gn...   \n",
       "\n",
       "                         cost  \n",
       "date source                    \n",
       "2020 fb             170946.80  \n",
       "     google_ads     113912.57  \n",
       "     vk              83310.36  \n",
       "     yandex_direct  513690.46  "
      ]
     },
     "execution_count": 198,
     "metadata": {},
     "output_type": "execute_result"
    }
   ],
   "source": [
    "filtered_sources = ads_sources.groupby(['date', 'source']).sum()\n",
    "filtered_sources = filtered_sources[filtered_sources.index.get_level_values('date') == pd.Period('2020', freq='Y')]\n",
    "filtered_sources #Источники и РК за 2020 год"
   ]
  },
  {
   "cell_type": "code",
   "execution_count": 199,
   "metadata": {},
   "outputs": [],
   "source": [
    "# ads = pd.read_csv('/Users/artempak_macbook_air/Desktop/Code/python_learning/alex_python_for_pm/module_10_cohorts/data/ads.csv')\n",
    "# ads['dt'] = pd.to_datetime(ads['dt']).dt.to_period('Y')\n",
    "# ads['ad_spend'].sum()\n",
    "# # 1 855 639 all years\n",
    "\n",
    "# filtered_sources = ads.groupby(['ad_channel', 'dt']).sum()\n",
    "# filtered_sources = filtered_sources[filtered_sources.index.get_level_values('dt') == pd.Period('2020', freq='Y')]\n",
    "# filtered_sources\n"
   ]
  },
  {
   "cell_type": "code",
   "execution_count": 200,
   "metadata": {},
   "outputs": [],
   "source": [
    "# filtered_sources = ads.groupby(['ad_channel', 'dt']).sum()\n",
    "# filtered_sources = filtered_sources[filtered_sources.index.get_level_values('dt') == pd.Period('2020', freq='Y')]\n",
    "# filtered_sources"
   ]
  },
  {
   "cell_type": "code",
   "execution_count": null,
   "metadata": {},
   "outputs": [],
   "source": []
  }
 ],
 "metadata": {
  "kernelspec": {
   "display_name": "venv",
   "language": "python",
   "name": "python3"
  },
  "language_info": {
   "codemirror_mode": {
    "name": "ipython",
    "version": 3
   },
   "file_extension": ".py",
   "mimetype": "text/x-python",
   "name": "python",
   "nbconvert_exporter": "python",
   "pygments_lexer": "ipython3",
   "version": "3.13.1"
  }
 },
 "nbformat": 4,
 "nbformat_minor": 2
}
