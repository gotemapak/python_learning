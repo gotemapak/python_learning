{
 "cells": [
  {
   "cell_type": "code",
   "execution_count": 2,
   "metadata": {},
   "outputs": [
    {
     "data": {
      "text/plain": [
       "True"
      ]
     },
     "execution_count": 2,
     "metadata": {},
     "output_type": "execute_result"
    }
   ],
   "source": [
    "import pandas as pd\n",
    "import os\n",
    "import requests\n",
    "\n",
    "from dotenv import load_dotenv\n",
    "\n",
    "load_dotenv()"
   ]
  },
  {
   "cell_type": "code",
   "execution_count": 3,
   "metadata": {},
   "outputs": [
    {
     "data": {
      "text/plain": [
       "{'status_code': 200, 'message': 'API is online'}"
      ]
     },
     "execution_count": 3,
     "metadata": {},
     "output_type": "execute_result"
    }
   ],
   "source": [
    "url = 'http://smysl.io/health'\n",
    "res = requests.get(url)\n",
    "dict(res.json())\n",
    "\n",
    "# проверили, что API работает!"
   ]
  },
  {
   "cell_type": "code",
   "execution_count": 4,
   "metadata": {},
   "outputs": [
    {
     "data": {
      "text/plain": [
       "[{'id': 1, 'is_public': True}, {'id': 2, 'is_public': False}]"
      ]
     },
     "execution_count": 4,
     "metadata": {},
     "output_type": "execute_result"
    }
   ],
   "source": [
    "url = 'http://smysl.io/tasks'\n",
    "res = requests.get(url)\n",
    "res.json()\n",
    "\n",
    "# Получим список заданий\n"
   ]
  },
  {
   "cell_type": "code",
   "execution_count": 5,
   "metadata": {},
   "outputs": [
    {
     "data": {
      "text/plain": [
       "{'id': 1,\n",
       " 'description': 'Отлично! Теперь попробуйте открыть следующее задание!',\n",
       " 'is_public': True}"
      ]
     },
     "execution_count": 5,
     "metadata": {},
     "output_type": "execute_result"
    }
   ],
   "source": [
    "tasks = '1'\n",
    "url = f'http://smysl.io/tasks/{tasks}'\n",
    "res = requests.get(url)\n",
    "res.json()\n",
    "\n",
    "# Откроем первое задание\n"
   ]
  },
  {
   "cell_type": "code",
   "execution_count": 6,
   "metadata": {},
   "outputs": [
    {
     "data": {
      "text/plain": [
       "'Access denied: No token provided for private task'"
      ]
     },
     "execution_count": 6,
     "metadata": {},
     "output_type": "execute_result"
    }
   ],
   "source": [
    "tasks = '2'\n",
    "url = f'http://smysl.io/tasks/{tasks}'\n",
    "res = requests.get(url)\n",
    "res.text\n",
    "\n",
    "# Откроем второе задание → ошибка\n"
   ]
  },
  {
   "cell_type": "code",
   "execution_count": 7,
   "metadata": {},
   "outputs": [],
   "source": [
    "# url = 'http://smysl.io/get_token'\n",
    "\n",
    "# data = {\n",
    "#     'email': 'ttema93@gmail.com'\n",
    "# }\n",
    "\n",
    "# # Отправляем POST-запрос с JSON-данными\n",
    "# res = requests.post(url, json=data)\n",
    "# print(res.status_code)\n",
    "# print(res.text)\n",
    "\n",
    "\n",
    "# # Проверяем статус ответа и получаем данные\n",
    "# if res.status_code == 200:\n",
    "#     data = res.json()  # Преобразуем ответ в формат JSON\n",
    "#     api_token = data.get('api_token')  # Получаем сам токен\n",
    "#     expires_at = data.get('expires_at')  # Получаем дату истечения\n",
    "\n",
    "#     print(f\"API Token: {api_token}\")\n",
    "#     print(f\"Expires At: {expires_at}\")\n",
    "# else:\n",
    "#     print(f\"Ошибка {res.status_code}: {res.text}\")\n"
   ]
  },
  {
   "cell_type": "code",
   "execution_count": 8,
   "metadata": {},
   "outputs": [
    {
     "data": {
      "text/plain": [
       "'Access denied: Invalid or expired token for private task'"
      ]
     },
     "execution_count": 8,
     "metadata": {},
     "output_type": "execute_result"
    }
   ],
   "source": [
    "tasks = '2'\n",
    "url = f'http://smysl.io/tasks/{tasks}'\n",
    "api_key = os.getenv('Authorization')\n",
    "headers = {\n",
    "    'Authorization': f'Bearer {api_key}'\n",
    "}\n",
    "\n",
    "res = requests.get(url, headers=headers)\n",
    "res.text\n",
    "\n"
   ]
  },
  {
   "cell_type": "code",
   "execution_count": null,
   "metadata": {},
   "outputs": [],
   "source": []
  }
 ],
 "metadata": {
  "kernelspec": {
   "display_name": "venv",
   "language": "python",
   "name": "python3"
  },
  "language_info": {
   "codemirror_mode": {
    "name": "ipython",
    "version": 3
   },
   "file_extension": ".py",
   "mimetype": "text/x-python",
   "name": "python",
   "nbconvert_exporter": "python",
   "pygments_lexer": "ipython3",
   "version": "3.13.1"
  }
 },
 "nbformat": 4,
 "nbformat_minor": 2
}
