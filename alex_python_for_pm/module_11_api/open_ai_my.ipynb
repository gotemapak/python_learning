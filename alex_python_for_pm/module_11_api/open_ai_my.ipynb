{
 "cells": [
  {
   "cell_type": "code",
   "execution_count": 13,
   "metadata": {},
   "outputs": [
    {
     "data": {
      "text/plain": [
       "True"
      ]
     },
     "execution_count": 13,
     "metadata": {},
     "output_type": "execute_result"
    }
   ],
   "source": [
    "import os\n",
    "import requests\n",
    "from dotenv import load_dotenv\n",
    "\n",
    "load_dotenv()"
   ]
  },
  {
   "cell_type": "code",
   "execution_count": 14,
   "metadata": {},
   "outputs": [
    {
     "data": {
      "text/plain": [
       "'{\\n    \"error\": {\\n        \"message\": \"You exceeded your current quota, please check your plan and billing details. For more information on this error, read the docs: https://platform.openai.com/docs/guides/error-codes/api-errors.\",\\n        \"type\": \"insufficient_quota\",\\n        \"param\": null,\\n        \"code\": \"insufficient_quota\"\\n    }\\n}\\n'"
      ]
     },
     "execution_count": 14,
     "metadata": {},
     "output_type": "execute_result"
    }
   ],
   "source": [
    "headers = {\n",
    "    'Content-Type': 'application/json',\n",
    "    'Authorization': 'Bearer ' + os.getenv('openai_api_key', ''),\n",
    "}\n",
    "\n",
    "json_data = {\n",
    "    'model': 'gpt-3.5-turbo',\n",
    "    'messages': [\n",
    "        {\n",
    "            'role': 'system',\n",
    "            'content': 'You are a helpful assistant.',\n",
    "        },\n",
    "        {\n",
    "            'role': 'user',\n",
    "            'content': 'Write a haiku that explains the concept of recursion.',\n",
    "        },\n",
    "    ],\n",
    "}\n",
    "\n",
    "response = requests.post('https://api.openai.com/v1/chat/completions', headers=headers, json=json_data)\n",
    "response.text\n",
    "\n",
    "# Note: json_data will not be serialized by requests\n",
    "# exactly as it was in the original request.\n",
    "#data = '{\\n        \"model\": \"gpt-4o-mini\",\\n        \"messages\": [\\n            {\\n                \"role\": \"system\",\\n                \"content\": \"You are a helpful assistant.\"\\n            },\\n            {\\n                \"role\": \"user\",\\n                \"content\": \"Write a haiku that explains the concept of recursion.\"\\n            }\\n        ]\\n    }'\n",
    "#response = requests.post('https://api.openai.com/v1/chat/completions', headers=headers, data=data)"
   ]
  },
  {
   "cell_type": "code",
   "execution_count": null,
   "metadata": {},
   "outputs": [],
   "source": []
  }
 ],
 "metadata": {
  "kernelspec": {
   "display_name": "venv",
   "language": "python",
   "name": "python3"
  },
  "language_info": {
   "codemirror_mode": {
    "name": "ipython",
    "version": 3
   },
   "file_extension": ".py",
   "mimetype": "text/x-python",
   "name": "python",
   "nbconvert_exporter": "python",
   "pygments_lexer": "ipython3",
   "version": "3.13.1"
  }
 },
 "nbformat": 4,
 "nbformat_minor": 2
}
